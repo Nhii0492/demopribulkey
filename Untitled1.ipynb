{
 "cells": [
  {
   "cell_type": "code",
   "execution_count": 29,
   "id": "85523534",
   "metadata": {},
   "outputs": [
    {
     "name": "stdout",
     "output_type": "stream",
     "text": [
      "Nhập tin nhắn từ người gửi: nhi\n",
      "signature: 8fb46f930a3340652794095a7f5b54f5a2b118122fdc2373648db0cff44a00aaa9f31b4bc8756377b6ca68b3e0becf68a5cbd1af60d1610d66247da2b6ece2f8e8f67dc10953cbcffb8a2e162eb6e30987d11d6a9bcf3bbef8840486b6020d7b9b9427c9bdf50d4ddf5f83b644bc455f1e5c90ea6554211304de9b9b6d2cf81c06f2793eb4b3e70f3c160705d05658118ce21731674ebe91e813971a0394a767c50963025e315cde3f1937bcef2afe4d4d74507a302c2ce98372085f1deae8befdcbf9664d5f6e3338c91e540b9eeb228212dccb6632069cd43bd6a0df1969bedefdf1b4927900100321c1ec1d421b3678badbd4440564634e2a1c55940161c9\n"
     ]
    }
   ],
   "source": [
    "from cryptography.hazmat.primitives import serialization\n",
    "from cryptography.hazmat.primitives.asymmetric import rsa\n",
    "from cryptography.hazmat.primitives.asymmetric import padding\n",
    "from cryptography.hazmat.primitives import hashes\n",
    "\n",
    "# Tạo cặp khóa cho người gửi\n",
    "def generate_user_key_pair():\n",
    "    private_key = rsa.generate_private_key(\n",
    "        public_exponent=65537,\n",
    "        key_size=2048,\n",
    "    )\n",
    "    return private_key, private_key.public_key()\n",
    "\n",
    "user_private_key, user_public_key = generate_user_key_pair()\n",
    "\n",
    "# Lưu trữ private key và public key của người gửi vào các tệp\n",
    "with open(\"user_private_key.pem\", \"wb\") as private_key_file:\n",
    "    private_key_pem = user_private_key.private_bytes(\n",
    "        encoding=serialization.Encoding.PEM,\n",
    "        format=serialization.PrivateFormat.PKCS8,\n",
    "        encryption_algorithm=serialization.NoEncryption()\n",
    "    )\n",
    "    private_key_file.write(private_key_pem)\n",
    "\n",
    "with open(\"user_public_key.pem\", \"wb\") as public_key_file:\n",
    "    public_key_pem = user_public_key.public_bytes(\n",
    "        encoding=serialization.Encoding.PEM,\n",
    "        format=serialization.PublicFormat.SubjectPublicKeyInfo\n",
    "    )\n",
    "    public_key_file.write(public_key_pem)\n",
    "\n",
    "# Người gửi nhập và ký tin nhắn\n",
    "message_from_sender = input(\"Nhập tin nhắn từ người gửi: \")\n",
    "signature_from_sender = user_private_key.sign(\n",
    "    message_from_sender.encode(),\n",
    "    padding.PSS(\n",
    "        mgf=padding.MGF1(hashes.SHA256()),\n",
    "        salt_length=padding.PSS.MAX_LENGTH,\n",
    "    ),\n",
    "    hashes.SHA256(),\n",
    ")\n",
    "\n",
    "print(f\"signature: {signature_from_sender.hex()}\")\n"
   ]
  },
  {
   "cell_type": "code",
   "execution_count": 30,
   "id": "4fddbca9",
   "metadata": {},
   "outputs": [
    {
     "name": "stdout",
     "output_type": "stream",
     "text": [
      "Nhập chữ ký số từ người gửi (dưới dạng chuỗi hex): 8fb46f930a3340652794095a7f5b54f5a2b118122fdc2373648db0cff44a00aaa9f31b4bc8756377b6ca68b3e0becf68a5cbd1af60d1610d66247da2b6ece2f8e8f67dc10953cbcffb8a2e162eb6e30987d11d6a9bcf3bbef8840486b6020d7b9b9427c9bdf50d4ddf5f83b644bc455f1e5c90ea6554211304de9b9b6d2cf81c06f2793eb4b3e70f3c160705d05658118ce21731674ebe91e813971a0394a767c50963025e315cde3f1937bcef2afe4d4d74507a302c2ce98372085f1deae8befdcbf9664d5f6e3338c91e540b9eeb228212dccb6632069cd43bd6a0df1969bedefdf1b4927900100321c1ec1d421b3678badbd4440564634e2a1c55940161c9\n",
      "Xác nhận chữ ký số thất bại. Tin nhắn từ người gửi không hợp lệ.\n"
     ]
    }
   ],
   "source": [
    "from cryptography.hazmat.primitives.asymmetric import rsa, padding\n",
    "from cryptography.hazmat.primitives import serialization, hashes\n",
    "\n",
    "# Đọc khóa công khai của người gửi từ tệp hoặc bất kỳ nguồn nào bạn nhận được nó\n",
    "with open(\"user_public_key.pem\", \"rb\") as public_key_file:\n",
    "    user_public_key_pem = public_key_file.read()\n",
    "    user_public_key = serialization.load_pem_public_key(user_public_key_pem)\n",
    "\n",
    "# Nhận văn bản và chữ ký số từ người gửi\n",
    "message_received = \"Hello, this is the received message.\"\n",
    "signature_received = input(\"Nhập chữ ký số từ người gửi (dưới dạng chuỗi hex): \")\n",
    "\n",
    "# Chuyển đổi chữ ký số từ chuỗi hex sang bytes\n",
    "signature_bytes = bytes.fromhex(signature_received)\n",
    "\n",
    "# Bước 1: Tính mã hash của văn bản\n",
    "message_hash = hashes.Hash(hashes.SHA256())\n",
    "message_hash.update(message_received.encode())\n",
    "hash_result = message_hash.finalize()\n",
    "\n",
    "# Bước 2: Giải mã chữ ký số thành mã hash h'\n",
    "try:\n",
    "    hash_result_decrypted = user_public_key.verify(\n",
    "        signature_bytes,\n",
    "        hash_result,\n",
    "        padding.PKCS1v15(),  # Padding scheme sử dụng với RSA\n",
    "        hashes.SHA256(),     # Thuật toán hash sử dụng\n",
    "    )\n",
    "\n",
    "    # Bước 3: So sánh mã hash ban đầu và mã hash h'\n",
    "    if hash_result == hash_result_decrypted:\n",
    "        print(\"Xác nhận chữ ký số thành công. Tin nhắn từ người gửi là hợp lệ.\")\n",
    "    else:\n",
    "        print(\"Xác nhận chữ ký số thất bại. Tin nhắn từ người gửi không hợp lệ.\")\n",
    "except Exception as e:\n",
    "    print(\"Xác nhận chữ ký số thất bại. Tin nhắn từ người gửi không hợp lệ.\")\n"
   ]
  },
  {
   "cell_type": "code",
   "execution_count": null,
   "id": "98b0f8e9",
   "metadata": {},
   "outputs": [],
   "source": []
  },
  {
   "cell_type": "code",
   "execution_count": null,
   "id": "91776b82",
   "metadata": {},
   "outputs": [],
   "source": []
  }
 ],
 "metadata": {
  "kernelspec": {
   "display_name": "Python 3 (ipykernel)",
   "language": "python",
   "name": "python3"
  },
  "language_info": {
   "codemirror_mode": {
    "name": "ipython",
    "version": 3
   },
   "file_extension": ".py",
   "mimetype": "text/x-python",
   "name": "python",
   "nbconvert_exporter": "python",
   "pygments_lexer": "ipython3",
   "version": "3.10.9"
  }
 },
 "nbformat": 4,
 "nbformat_minor": 5
}
